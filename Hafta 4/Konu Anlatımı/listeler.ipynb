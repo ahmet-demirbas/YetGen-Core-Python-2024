{
 "cells": [
  {
   "cell_type": "markdown",
   "metadata": {},
   "source": [
    "LİSTELER  \n",
    "\n",
    "* [ ] içinde yazılır.\n"
   ]
  },
  {
   "cell_type": "code",
   "execution_count": 7,
   "metadata": {},
   "outputs": [
    {
     "name": "stdout",
     "output_type": "stream",
     "text": [
      "['Ahmet', 'Mehmet', 'Çağla', 'Barlas']\n",
      "Ahmet\n",
      "Barlas\n",
      "Çağla\n"
     ]
    }
   ],
   "source": [
    "liderler = [\"Ahmet\", \"Mehmet\", \"Çağla\", \"Barlas\"]\n",
    "\n",
    "print(liderler)\n",
    "\n",
    "print(liderler[0])\n",
    "\n",
    "print(liderler[-1])\n",
    "\n",
    "print(liderler[2])"
   ]
  },
  {
   "cell_type": "markdown",
   "metadata": {},
   "source": [
    "LİSTE METODLARI:\n",
    "\n",
    "* append() : listenin sonuna eleman ekler.\n",
    "* remove() : lisenin içindeki elemanı siler.\n"
   ]
  },
  {
   "cell_type": "code",
   "execution_count": 9,
   "metadata": {},
   "outputs": [
    {
     "name": "stdout",
     "output_type": "stream",
     "text": [
      "['Ahmet', 'Mehmet', 'Çağla', 'Barlas', 'Emir']\n"
     ]
    }
   ],
   "source": [
    "liderler.append(\"Emir\")\n",
    "\n",
    "print(liderler)"
   ]
  },
  {
   "cell_type": "code",
   "execution_count": 10,
   "metadata": {},
   "outputs": [
    {
     "name": "stdout",
     "output_type": "stream",
     "text": [
      "['Mehmet', 'Çağla', 'Barlas', 'Emir']\n"
     ]
    }
   ],
   "source": [
    "liderler.remove(\"Ahmet\")\n",
    "\n",
    "print(liderler)"
   ]
  },
  {
   "cell_type": "markdown",
   "metadata": {},
   "source": [
    "* len() : listenin uzunluğunu verir."
   ]
  },
  {
   "cell_type": "code",
   "execution_count": 13,
   "metadata": {},
   "outputs": [
    {
     "name": "stdout",
     "output_type": "stream",
     "text": [
      "4\n"
     ]
    }
   ],
   "source": [
    "print(len(liderler))"
   ]
  },
  {
   "cell_type": "code",
   "execution_count": 15,
   "metadata": {},
   "outputs": [
    {
     "name": "stdout",
     "output_type": "stream",
     "text": [
      "['Mehmet', 'Çağla', 'Aslı', 'Emir']\n"
     ]
    }
   ],
   "source": [
    "liderler[2] = \"Aslı\" ### 3. elemana Aslı'yı atadık. ###\n",
    "\n",
    "print(liderler)"
   ]
  },
  {
   "cell_type": "markdown",
   "metadata": {},
   "source": [
    "liste yapmak için 2 adet iç içe parantez kullanmak da bir yol."
   ]
  },
  {
   "cell_type": "code",
   "execution_count": 18,
   "metadata": {},
   "outputs": [
    {
     "name": "stdout",
     "output_type": "stream",
     "text": [
      "['İstanbul', 'İzmir', 'Ankara', 'Ordu']\n"
     ]
    }
   ],
   "source": [
    "sehirler = list((\"İstanbul\", \"İzmir\", \"Ankara\", \"Ordu\")) ### ya da sehirler = [\"İstanbul\", \"İzmir\", \"Ankara\", \"Ordu\" yazacaktık. ###\n",
    "\n",
    "print(sehirler)"
   ]
  },
  {
   "cell_type": "markdown",
   "metadata": {},
   "source": [
    " index() : \n",
    "\n",
    "* listedeki elemanın indexini verir.\n",
    "* Aranan veriyi ilk bulduğunda durur. Diğer verilerde aynı veri varsa geitmez.\n",
    "* Eğer veri bulunamazsa ValueError hatası verir."
   ]
  },
  {
   "cell_type": "code",
   "execution_count": 23,
   "metadata": {},
   "outputs": [
    {
     "name": "stdout",
     "output_type": "stream",
     "text": [
      "Ankara'nın indeksi : 2\n"
     ]
    }
   ],
   "source": [
    "print(\"Ankara'nın indeksi : \" + str(sehirler.index(\"Ankara\")))"
   ]
  },
  {
   "cell_type": "markdown",
   "metadata": {},
   "source": [
    " pop() : \n",
    "\n",
    "* index verilmezse son elemanı siler.\n",
    "* index verilirse verilen index'teki elemanı siler.\n"
   ]
  },
  {
   "cell_type": "code",
   "execution_count": 24,
   "metadata": {},
   "outputs": [
    {
     "data": {
      "text/plain": [
       "'Ordu'"
      ]
     },
     "execution_count": 24,
     "metadata": {},
     "output_type": "execute_result"
    }
   ],
   "source": [
    "sehirler.pop()"
   ]
  },
  {
   "cell_type": "code",
   "execution_count": 26,
   "metadata": {},
   "outputs": [
    {
     "data": {
      "text/plain": [
       "'İstanbul'"
      ]
     },
     "execution_count": 26,
     "metadata": {},
     "output_type": "execute_result"
    }
   ],
   "source": [
    "sehirler.pop(0)"
   ]
  },
  {
   "cell_type": "code",
   "execution_count": 27,
   "metadata": {},
   "outputs": [
    {
     "name": "stdout",
     "output_type": "stream",
     "text": [
      "['İzmir', 'Ankara']\n"
     ]
    }
   ],
   "source": [
    "print(sehirler) ### İStanbul ve Ordu pop() komutuyla silindi. ###"
   ]
  },
  {
   "cell_type": "markdown",
   "metadata": {},
   "source": [
    "* insert() : istenilen indexe eleman ekler."
   ]
  },
  {
   "cell_type": "code",
   "execution_count": 34,
   "metadata": {},
   "outputs": [
    {
     "name": "stdout",
     "output_type": "stream",
     "text": [
      "['Kahramanmaraş', 'Muğla', 'Aydın', 'Kahramanmaraş', 'Muğla', 'Aydın', 'Kahramanmaraş', 'Muğla', 'Aydın', 'Kahramanmaraş', 'Muğla', 'Aydın', 'Kahramanmaraş', 'Muğla', 'Aydın', 'Kahramanmaraş', 'Kahramanmaraş', 'İzmir', 'Ankara']\n"
     ]
    }
   ],
   "source": [
    "sehirler.insert(0, \"Kahramanmaraş\")\n",
    "sehirler.insert(1, \"Muğla\")\n",
    "sehirler.insert(2, \"Aydın\")\n",
    "\n",
    "print(sehirler)"
   ]
  },
  {
   "cell_type": "markdown",
   "metadata": {},
   "source": [
    "* reverse() : listeyi ters çevirir."
   ]
  },
  {
   "cell_type": "code",
   "execution_count": 36,
   "metadata": {},
   "outputs": [
    {
     "name": "stdout",
     "output_type": "stream",
     "text": [
      "['Ankara', 'İzmir', 'Kahramanmaraş', 'Kahramanmaraş', 'Aydın', 'Muğla', 'Kahramanmaraş', 'Aydın', 'Muğla', 'Kahramanmaraş', 'Aydın', 'Muğla', 'Kahramanmaraş', 'Aydın', 'Muğla', 'Kahramanmaraş', 'Aydın', 'Muğla', 'Kahramanmaraş']\n"
     ]
    }
   ],
   "source": [
    "sehirler.reverse()\n",
    "print(sehirler)"
   ]
  },
  {
   "cell_type": "markdown",
   "metadata": {},
   "source": [
    "* sort() : listeyi küçükten büyüğe sıralar."
   ]
  },
  {
   "cell_type": "code",
   "execution_count": 37,
   "metadata": {},
   "outputs": [
    {
     "name": "stdout",
     "output_type": "stream",
     "text": [
      "['Ankara', 'Aydın', 'Aydın', 'Aydın', 'Aydın', 'Aydın', 'Kahramanmaraş', 'Kahramanmaraş', 'Kahramanmaraş', 'Kahramanmaraş', 'Kahramanmaraş', 'Kahramanmaraş', 'Kahramanmaraş', 'Muğla', 'Muğla', 'Muğla', 'Muğla', 'Muğla', 'İzmir']\n"
     ]
    }
   ],
   "source": [
    "sehirler.sort()\n",
    "\n",
    "print(sehirler)"
   ]
  },
  {
   "cell_type": "markdown",
   "metadata": {},
   "source": [
    "Liste toplama :"
   ]
  },
  {
   "cell_type": "code",
   "execution_count": 38,
   "metadata": {},
   "outputs": [
    {
     "name": "stdout",
     "output_type": "stream",
     "text": [
      "['Ahmet', 'Mehmet', 'Beyza', 'Tuğba']\n"
     ]
    }
   ],
   "source": [
    "liste1 = [\"Ahmet\", \"Mehmet\"]\n",
    "liste2 = [\"Beyza\", \"Tuğba\"]\n",
    "print(liste1 + liste2)"
   ]
  },
  {
   "cell_type": "code",
   "execution_count": 39,
   "metadata": {},
   "outputs": [
    {
     "name": "stdout",
     "output_type": "stream",
     "text": [
      "1\n",
      "2\n",
      "Görkem\n",
      "345\n",
      "13\n",
      "abc\n"
     ]
    }
   ],
   "source": [
    "list = [1, 2, \"Görkem\", 345,[13,\"abc\"]]\n",
    "\n",
    "print(list[0])\n",
    "print(list[1])\n",
    "print(list[2])\n",
    "print(list[3])\n",
    "print(list[4][0]) ### 5. nin 1.si\n",
    "print(list[4][1]) ### 5.nin 2.si"
   ]
  }
 ],
 "metadata": {
  "kernelspec": {
   "display_name": "Python 3",
   "language": "python",
   "name": "python3"
  },
  "language_info": {
   "codemirror_mode": {
    "name": "ipython",
    "version": 3
   },
   "file_extension": ".py",
   "mimetype": "text/x-python",
   "name": "python",
   "nbconvert_exporter": "python",
   "pygments_lexer": "ipython3",
   "version": "3.12.3"
  }
 },
 "nbformat": 4,
 "nbformat_minor": 2
}
