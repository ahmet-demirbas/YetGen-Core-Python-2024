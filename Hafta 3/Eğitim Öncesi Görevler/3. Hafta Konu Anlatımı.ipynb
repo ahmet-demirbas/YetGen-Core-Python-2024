{
 "cells": [
  {
   "cell_type": "code",
   "execution_count": 7,
   "metadata": {},
   "outputs": [
    {
     "name": "stdout",
     "output_type": "stream",
     "text": [
      "1. Sayı 2. sayıya eşittir.\n",
      "Program Bitti.\n"
     ]
    }
   ],
   "source": [
    "sayi1 = int(input(\"1. Sayıyı Giriniz: \"))\n",
    "\n",
    "sayi2 = int(input(\"2. Sayıyı Giriniz: \"))\n",
    "\n",
    "if sayi1 > sayi2 :\n",
    "    print(\"1. sayı 2. sayıdan büyüktür.\")\n",
    "elif sayi1 < sayi2: \n",
    "    print(\"2. sayı 1. sayıdan büyüktür.\")\n",
    "else:\n",
    "    print(\"1. Sayı 2. sayıya eşittir.\")\n",
    "print(\"Program Bitti.\")"
   ]
  },
  {
   "cell_type": "code",
   "execution_count": 9,
   "metadata": {},
   "outputs": [
    {
     "name": "stdout",
     "output_type": "stream",
     "text": [
      "20 ve 25 sayıları 15 sayısından büyüktür.\n",
      "20 25'den küçüktür.\n"
     ]
    }
   ],
   "source": [
    "a= 20\n",
    "b= 15\n",
    "c= 25\n",
    "\n",
    "if a > b and c > b:\n",
    "    print(f\"{a} ve {c} sayıları {b} sayısından büyüktür.\")\n",
    "    if a > c:\n",
    "        print(f\"{a} , {c}'den büyüktür.\")\n",
    "    elif a == c:\n",
    "        print(f\"{a} ve {c} eşittir.\")\n",
    "    else:\n",
    "        print(f\"{a} {c}'den küçüktür.\")"
   ]
  },
  {
   "cell_type": "code",
   "execution_count": 11,
   "metadata": {},
   "outputs": [
    {
     "name": "stdout",
     "output_type": "stream",
     "text": [
      "Sayı tektir.\n"
     ]
    }
   ],
   "source": [
    "sayi = int(input(\"Bir sayı giriniz: \"))\n",
    "if sayi % 2 == 0:\n",
    "    print(\"Sayi çifttir.\")\n",
    "else:\n",
    "    print(\"Sayı tektir.\")"
   ]
  },
  {
   "cell_type": "code",
   "execution_count": 12,
   "metadata": {},
   "outputs": [
    {
     "name": "stdout",
     "output_type": "stream",
     "text": [
      "1\n",
      "2\n",
      "3\n",
      "4\n",
      "5\n"
     ]
    }
   ],
   "source": [
    "liste = [1,2,3,4,5]\n",
    "\n",
    "for i in liste: #for döngüsü\n",
    "    print(i)"
   ]
  },
  {
   "cell_type": "code",
   "execution_count": 13,
   "metadata": {},
   "outputs": [
    {
     "name": "stdout",
     "output_type": "stream",
     "text": [
      "1\n",
      "4\n",
      "9\n",
      "16\n",
      "25\n"
     ]
    }
   ],
   "source": [
    "for i in liste:\n",
    "    print(i**2)"
   ]
  },
  {
   "cell_type": "code",
   "execution_count": 15,
   "metadata": {},
   "outputs": [
    {
     "name": "stdout",
     "output_type": "stream",
     "text": [
      "Y\n",
      "e\n",
      "t\n",
      "G\n",
      "e\n",
      "n\n",
      " \n",
      "C\n",
      "o\n",
      "r\n",
      "e\n"
     ]
    }
   ],
   "source": [
    "string = \"YetGen Core\"\n",
    "\n",
    "for letter in string:\n",
    "    print(letter)"
   ]
  },
  {
   "cell_type": "code",
   "execution_count": 16,
   "metadata": {},
   "outputs": [
    {
     "name": "stdout",
     "output_type": "stream",
     "text": [
      "1\n",
      "4\n",
      "9\n",
      "16\n",
      "25\n"
     ]
    }
   ],
   "source": [
    "sayilar = \"12345\"\n",
    "for x in sayilar:\n",
    "    print(int(x) * int(x))"
   ]
  }
 ],
 "metadata": {
  "kernelspec": {
   "display_name": "Python 3",
   "language": "python",
   "name": "python3"
  },
  "language_info": {
   "codemirror_mode": {
    "name": "ipython",
    "version": 3
   },
   "file_extension": ".py",
   "mimetype": "text/x-python",
   "name": "python",
   "nbconvert_exporter": "python",
   "pygments_lexer": "ipython3",
   "version": "3.12.3"
  }
 },
 "nbformat": 4,
 "nbformat_minor": 2
}
