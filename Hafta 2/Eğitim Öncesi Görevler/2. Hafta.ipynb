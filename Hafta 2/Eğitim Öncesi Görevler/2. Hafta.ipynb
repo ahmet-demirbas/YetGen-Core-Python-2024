{
 "cells": [
  {
   "cell_type": "code",
   "execution_count": 28,
   "metadata": {},
   "outputs": [
    {
     "name": "stdout",
     "output_type": "stream",
     "text": [
      "Hello, World\n"
     ]
    }
   ],
   "source": [
    "print(\"Hello, World\")\n"
   ]
  },
  {
   "cell_type": "code",
   "execution_count": 29,
   "metadata": {},
   "outputs": [
    {
     "name": "stdout",
     "output_type": "stream",
     "text": [
      "Hello World\n"
     ]
    }
   ],
   "source": [
    "print('Hello World')"
   ]
  },
  {
   "cell_type": "code",
   "execution_count": 30,
   "metadata": {},
   "outputs": [
    {
     "name": "stdout",
     "output_type": "stream",
     "text": [
      "Hello,İstanbul,And,Ankara\n"
     ]
    }
   ],
   "source": [
    "print(\"Hello\" , \"İstanbul\" , \"And\" , \"Ankara\", sep=\",\")"
   ]
  },
  {
   "cell_type": "code",
   "execution_count": 31,
   "metadata": {},
   "outputs": [
    {
     "name": "stdout",
     "output_type": "stream",
     "text": [
      "Ankara//İzmir//İstanbul\n"
     ]
    }
   ],
   "source": [
    "print(\"Ankara\",\"İzmir\",\"İstanbul\",sep=\"//\")"
   ]
  },
  {
   "cell_type": "code",
   "execution_count": 32,
   "metadata": {},
   "outputs": [
    {
     "name": "stdout",
     "output_type": "stream",
     "text": [
      "YetGen Core programına Hoş Geldiniz."
     ]
    }
   ],
   "source": [
    "print(\"YetGen Core programına Hoş Geldiniz\", end=\".\")"
   ]
  },
  {
   "cell_type": "code",
   "execution_count": 33,
   "metadata": {},
   "outputs": [
    {
     "name": "stdout",
     "output_type": "stream",
     "text": [
      "YetGen'e ilk adımı attım.\n"
     ]
    }
   ],
   "source": [
    "print(\"YetGen'e ilk adımı attım.\" )"
   ]
  },
  {
   "cell_type": "code",
   "execution_count": 34,
   "metadata": {},
   "outputs": [
    {
     "name": "stdout",
     "output_type": "stream",
     "text": [
      "839583\n"
     ]
    }
   ],
   "source": [
    "print(839583)"
   ]
  },
  {
   "cell_type": "code",
   "execution_count": 35,
   "metadata": {},
   "outputs": [
    {
     "name": "stdout",
     "output_type": "stream",
     "text": [
      "YetGen'le Python'a İlk Adımı Attım."
     ]
    }
   ],
   "source": [
    "print(\"YetGen'le Python'a İlk Adımı Attım\",end=\".\")"
   ]
  },
  {
   "cell_type": "code",
   "execution_count": 40,
   "metadata": {},
   "outputs": [
    {
     "name": "stdout",
     "output_type": "stream",
     "text": [
      "Python'da Yorum Satırı Eklemeyi Öğrendim.\n"
     ]
    }
   ],
   "source": [
    "# Tekli Yorum Satırı\n",
    "\n",
    "'''\n",
    "Çoklu Yorum Satırı\n",
    "Yapmak İçin \n",
    "Python'da üç tırnak\n",
    "Kullanılır.\n",
    "'''\n",
    "\n",
    "print(\"Python'da Yorum Satırı Eklemeyi Öğrendim.\")"
   ]
  },
  {
   "cell_type": "code",
   "execution_count": 37,
   "metadata": {},
   "outputs": [
    {
     "name": "stdout",
     "output_type": "stream",
     "text": [
      "YetGen Core\n",
      "YetGen Core\n",
      "YetGen Core\n"
     ]
    }
   ],
   "source": [
    "print(\"YetGen Core\")\n",
    "print(\"YetGen Core\")\n",
    "print(\"YetGen Core\")\n"
   ]
  },
  {
   "cell_type": "code",
   "execution_count": 39,
   "metadata": {},
   "outputs": [
    {
     "name": "stdout",
     "output_type": "stream",
     "text": [
      "YetGen Core\n",
      "YetGen Core\n",
      "YetGen Core\n"
     ]
    }
   ],
   "source": [
    "yetgen = \"YetGen Core\" #Değişken Atamayı Öğrendik.\n",
    "\n",
    "print(yetgen)\n",
    "print(yetgen)\n",
    "print(yetgen)\n",
    "\n",
    "#Değişkenler bir verinin değerini saklmayı sağlar ve verilerin sonradan değiştirilmesine olanak sağladığı için çok kullanışlıdır. \n",
    "#Örneğin, bir bankada çalışıyoruz ve banka faiz oranını 1.3'ten 1.1'e düşürmemiz isteniyor ve elinde 1000 satırlık bir veri var. Bu faiz oranını \n",
    "#her defasında yazmak yerine bir değişkene atarsak tek seferde değişkeni 1.1 yapmamız yeterli olacaktır. Aksi halde 1000 satırlık kodu tek tek \n",
    "#inceleyip değiştirmemiz gerekecekti."
   ]
  },
  {
   "cell_type": "code",
   "execution_count": 48,
   "metadata": {},
   "outputs": [
    {
     "name": "stdout",
     "output_type": "stream",
     "text": [
      "Ahmet Demirbaş\n",
      "Asiye Demirbaş\n"
     ]
    }
   ],
   "source": [
    "isimSoyisim = \"Ahmet Demirbaş\" #Camel Case Adlandırma: ilk harf küçük, sonraki her kelimenin ilk harfi büyük ve bitişik DOĞRU KULLANIM \"camelCase\"\n",
    "\n",
    "isim_soyisim = \"Asiye Demirbaş\" #Snake Case Adlandırma: tüm harfler küçük, kelimeler arası \"_\" konulacak. DOĞRU KULLANIM: \"snake_case\"\n",
    "\n",
    "# !!!!! Belirteçlerde asla Türkçe karakter kullanMA, kısa kodlarda her ne kadar sorun olmasa da uzun kodlarda algılayamama durumu olabilir. \n",
    "# öğrenci = \"xyz\" yanlış kullanım ; ogrenci = \"xyz\" doğru kullanım !!!!!\n",
    "\n",
    "print(isimSoyisim)   #sonuç verir\n",
    "\n",
    "print(isim_soyisim)  #sonuç verir\n",
    "\n"
   ]
  },
  {
   "cell_type": "code",
   "execution_count": null,
   "metadata": {},
   "outputs": [],
   "source": [
    "isim soyisim = \"Görkem Selimoğlu\" #:YANLIŞ KULLANIM, değişken yazarken asla boşluk bırakılmaz ve değişken sayıyla başlamaz!\n",
    "\n",
    "1isim_soyisim = \"Tuğba Selimoğlu\" #YANLIŞ KULLANIM: değişkenler asla sayıyla başlamaz.\n",
    "\n",
    "print(isim soyisim)  #sonuç vermez çünkü boşluk var\n",
    "\n",
    "print(1isim_soyisim) #sonuç vermez çünkü değişken rakamla başlamış."
   ]
  },
  {
   "cell_type": "code",
   "execution_count": 45,
   "metadata": {},
   "outputs": [
    {
     "name": "stdout",
     "output_type": "stream",
     "text": [
      "ABC\n",
      "XYZ\n"
     ]
    }
   ],
   "source": [
    "#Belirteçler (değişkenler) büyük ve küçük harf ayrımına duyarlıdır.\n",
    "\n",
    "isim = \"ABC\" \n",
    "Isim = \"XYZ\"\n",
    "\n",
    "print(isim)\n",
    "print(Isim)"
   ]
  },
  {
   "cell_type": "code",
   "execution_count": 50,
   "metadata": {},
   "outputs": [
    {
     "name": "stdout",
     "output_type": "stream",
     "text": [
      "<class 'str'>\n"
     ]
    }
   ],
   "source": [
    "# TYPE() KOMUTU \n",
    "# Bir değişkenin integer, float, string ya da boolean olup olmadığını verir. Yani veri tipini verir.\n",
    "\n",
    "print(type(\"Ahmet\"))"
   ]
  },
  {
   "cell_type": "code",
   "execution_count": 51,
   "metadata": {},
   "outputs": [
    {
     "data": {
      "text/plain": [
       "int"
      ]
     },
     "execution_count": 51,
     "metadata": {},
     "output_type": "execute_result"
    }
   ],
   "source": [
    "# başına print() eklemek zorunda değiliz. \n",
    "\n",
    "type(2024) # Tam Sayılar = integer"
   ]
  },
  {
   "cell_type": "code",
   "execution_count": 52,
   "metadata": {},
   "outputs": [
    {
     "data": {
      "text/plain": [
       "float"
      ]
     },
     "execution_count": 52,
     "metadata": {},
     "output_type": "execute_result"
    }
   ],
   "source": [
    "type(3.14) # Ondalıklı Sayılar = float"
   ]
  },
  {
   "cell_type": "code",
   "execution_count": 58,
   "metadata": {},
   "outputs": [
    {
     "data": {
      "text/plain": [
       "bool"
      ]
     },
     "execution_count": 58,
     "metadata": {},
     "output_type": "execute_result"
    }
   ],
   "source": [
    "type(False)  # Boolean (Boole) veri tipi, bir \"true\" ya da \"false\" (doğru - yanlış) sorusunun yanıtı olan mantıksal bir niceliği simgeler. \n",
    "             # Boolean olması için baş harfi büyük olmalı : False veya True --> false veya true yazarsan kabul bool olarak kabul etmez."
   ]
  },
  {
   "cell_type": "code",
   "execution_count": 54,
   "metadata": {},
   "outputs": [
    {
     "data": {
      "text/plain": [
       "str"
      ]
     },
     "execution_count": 54,
     "metadata": {},
     "output_type": "execute_result"
    }
   ],
   "source": [
    "type(\"True\") # Metinler = string"
   ]
  },
  {
   "cell_type": "code",
   "execution_count": 59,
   "metadata": {},
   "outputs": [
    {
     "name": "stdout",
     "output_type": "stream",
     "text": [
      "<class 'bool'>\n",
      "<class 'bool'>\n",
      "<class 'int'>\n",
      "<class 'float'>\n",
      "<class 'str'>\n"
     ]
    }
   ],
   "source": [
    "# birden fazla veri tipinin ne olduğunu öğrenmek istiyorsan mutlaka başına print() eklemek zorundasın!!!\n",
    "\n",
    "print(type(True))\n",
    "print(type(False))\n",
    "print(type(1234))\n",
    "print(type(2.71))\n",
    "print(type(\"Hello World\"))"
   ]
  },
  {
   "cell_type": "code",
   "execution_count": 61,
   "metadata": {},
   "outputs": [
    {
     "name": "stdout",
     "output_type": "stream",
     "text": [
      "Merhaba ahmet\n"
     ]
    }
   ],
   "source": [
    "isim = input(\"İsim Giriniz: \")\n",
    "print(\"Merhaba \" + isim )"
   ]
  }
 ],
 "metadata": {
  "kernelspec": {
   "display_name": "Python 3",
   "language": "python",
   "name": "python3"
  },
  "language_info": {
   "codemirror_mode": {
    "name": "ipython",
    "version": 3
   },
   "file_extension": ".py",
   "mimetype": "text/x-python",
   "name": "python",
   "nbconvert_exporter": "python",
   "pygments_lexer": "ipython3",
   "version": "3.12.3"
  }
 },
 "nbformat": 4,
 "nbformat_minor": 2
}
